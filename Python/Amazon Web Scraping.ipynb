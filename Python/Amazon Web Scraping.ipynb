{
 "cells": [
  {
   "cell_type": "code",
   "execution_count": 41,
   "metadata": {},
   "outputs": [],
   "source": [
    "from bs4 import BeautifulSoup\n",
    "import requests, time, datetime, csv\n",
    "import pandas as pd "
   ]
  },
  {
   "cell_type": "code",
   "execution_count": 10,
   "metadata": {},
   "outputs": [],
   "source": [
    "URL = 'https://www.amazon.com.tr/Yeni-Apple-iPhone-128-GB-Gece-Yar%C4%B1s%C4%B1/dp/B09G9RQTP3/ref=sr_1_2?content-id=amzn1.sym.49bd5452-2244-4863-89d0-0a3b2184ac4b&dib=eyJ2IjoiMSJ9.jV8kiCuASN-1oYk_qnZJHykeUfwTMzinEnOiV7nr9vYzAmY1IBzxxnVpCJQ7__cddYAOhjp5YEWi-JkORFiN6f_Z-t2FoQz7fRLA0Z9mI6FClD2SmbT3MXo9aVbeugouYOfBaf59Dh1QYSrZ_NZqCP1zOrt0o_GfeoRKXTGzPEQdrzww98jirjRx0mNmNyWuQ5rA-C69mEREaAuDXCyRAfT93Wyhx1yVPdqwUd2mPDAmRcVuHPJSzbBGMwB0-0mdOGv3fAou3Ibw6iUtVU0IGgMpxAuoPoDosMoGJGTvIgc.gfmvyfIJnw12DXcbKWtCOsV70c5Oh-jy7eFctL4Y8kc&dib_tag=se&m=A1UNQM1SR2CHM&pd_rd_r=04f5e16c-f0f5-4c1f-a2a1-59fc84da7811&pd_rd_w=JNesX&pd_rd_wg=P3dzJ&pf_rd_p=49bd5452-2244-4863-89d0-0a3b2184ac4b&pf_rd_r=99KNDSB70E84M0YNMPQH&qid=1722686129&refinements=p_6%3AA1UNQM1SR2CHM&s=electronics&sr=1-2&srs=17414421031'\n",
    "\n",
    "headers = {\"User-Agent\": \"Mozilla/5.0 (Windows NT 10.0; Win64; x64) AppleWebKit/537.36 (KHTML, like Gecko) Chrome/127.0.0.0 Safari/537.36\", \"Accept-Encoding\":\"gzip, deflate\", \"Accept\":\"text/html,application/xhtml+xml,application/xml;q=0.9,*/*;q=0.8\", \"DNT\":\"1\",\"Connection\":\"close\", \"Upgrade-Insecure-Requests\":\"1\"}\n",
    "\n",
    "page = requests.get(URL, headers=headers)\n",
    "\n",
    "soup1 = BeautifulSoup(page.content, \"html.parser\")\n",
    "soup2 = BeautifulSoup(soup1.prettify(), 'html.parser')\n"
   ]
  },
  {
   "cell_type": "code",
   "execution_count": 30,
   "metadata": {},
   "outputs": [
    {
     "name": "stdout",
     "output_type": "stream",
     "text": [
      "Apple iPhone 13 (128 GB) - Gece Yarısı\n"
     ]
    }
   ],
   "source": [
    "title = soup2.find(id = 'productTitle').text.strip()\n",
    "print(title)"
   ]
  },
  {
   "cell_type": "code",
   "execution_count": 40,
   "metadata": {},
   "outputs": [
    {
     "name": "stdout",
     "output_type": "stream",
     "text": [
      "36.599\n"
     ]
    }
   ],
   "source": [
    "price = soup2.find(class_ = \"a-offscreen\").text.strip()[:-5]\n",
    "print(price)"
   ]
  },
  {
   "cell_type": "code",
   "execution_count": 42,
   "metadata": {},
   "outputs": [
    {
     "name": "stdout",
     "output_type": "stream",
     "text": [
      "2024-08-03\n"
     ]
    }
   ],
   "source": [
    "# Create a Timestamp for your output to track when data was collected\n",
    "\n",
    "today = datetime.date.today()\n",
    "print(today)\n",
    "\n",
    "header = ['Title', 'Price', 'Date']\n",
    "data = [title, price, today]\n",
    "\n",
    "\n",
    "with open('AmazonWebScraperDataset.csv', 'w', newline='', encoding='UTF8') as f:\n",
    "    writer = csv.writer(f)\n",
    "    writer.writerow(header)\n",
    "    writer.writerow(data)"
   ]
  },
  {
   "cell_type": "code",
   "execution_count": 44,
   "metadata": {},
   "outputs": [
    {
     "name": "stdout",
     "output_type": "stream",
     "text": [
      "                                    Title   Price        Date\n",
      "0  Apple iPhone 13 (128 GB) - Gece Yarısı  36.599  2024-08-03\n"
     ]
    }
   ],
   "source": [
    "df = pd.read_csv(r'C:\\Users\\ozsam\\OneDrive\\Desktop\\DA\\AmazonWebScraperDataset.csv')\n",
    "print(df)"
   ]
  },
  {
   "cell_type": "markdown",
   "metadata": {},
   "source": [
    "Take all phone price and title"
   ]
  },
  {
   "cell_type": "code",
   "execution_count": 45,
   "metadata": {},
   "outputs": [],
   "source": [
    "URL = 'https://www.amazon.com.tr/b/?ie=UTF8&node=13709907031&pf_rd_p=b6e32657-492e-44b6-84e5-d4ce938fb249&pf_rd_r=92QQ8DNF01Q4V3A275BX&pf_rd_s=tr_subnav_flyout_phones-content-1&pf_rd_t=SubnavFlyout&ref_=sn_gfs_co_electronics_13709907031_1'\n",
    "\n",
    "headers = {\"User-Agent\": \"Mozilla/5.0 (Windows NT 10.0; Win64; x64) AppleWebKit/537.36 (KHTML, like Gecko) Chrome/127.0.0.0 Safari/537.36\", \"Accept-Encoding\":\"gzip, deflate\", \"Accept\":\"text/html,application/xhtml+xml,application/xml;q=0.9,*/*;q=0.8\", \"DNT\":\"1\",\"Connection\":\"close\", \"Upgrade-Insecure-Requests\":\"1\"}\n",
    "\n",
    "page = requests.get(URL, headers=headers)\n",
    "\n",
    "soup1 = BeautifulSoup(page.content, \"html.parser\")\n",
    "soup2 = BeautifulSoup(soup1.prettify(), 'html.parser')\n"
   ]
  },
  {
   "cell_type": "markdown",
   "metadata": {},
   "source": [
    "Title"
   ]
  },
  {
   "cell_type": "code",
   "execution_count": 51,
   "metadata": {},
   "outputs": [],
   "source": [
    "all_title = soup2.find_all(class_ =\"a-section octopus-pc-asin-title\")"
   ]
  },
  {
   "cell_type": "code",
   "execution_count": 58,
   "metadata": {},
   "outputs": [],
   "source": [
    "title_list = []\n",
    "for title in title:\n",
    "    raw_title = title.find(class_ =\"a-size-base a-color-base\").text.strip()\n",
    "    title_list.append(raw_title)"
   ]
  },
  {
   "cell_type": "markdown",
   "metadata": {},
   "source": [
    "Price"
   ]
  },
  {
   "cell_type": "code",
   "execution_count": 71,
   "metadata": {},
   "outputs": [],
   "source": [
    "all_price = soup2.find_all(class_ =\"a-offscreen\")"
   ]
  },
  {
   "cell_type": "code",
   "execution_count": 78,
   "metadata": {},
   "outputs": [],
   "source": [
    "price_list = []\n",
    "for price in all_price:\n",
    "    raw_price = price.text.strip()\n",
    "    price_list.append(raw_price[:-6])"
   ]
  },
  {
   "cell_type": "markdown",
   "metadata": {},
   "source": [
    "Hyperlink"
   ]
  },
  {
   "cell_type": "code",
   "execution_count": 91,
   "metadata": {},
   "outputs": [],
   "source": [
    "all_links = soup2.find_all('a', attrs={'class' : \"a-link-normal octopus-pc-item-link\"})"
   ]
  },
  {
   "cell_type": "code",
   "execution_count": 118,
   "metadata": {},
   "outputs": [],
   "source": [
    "hper = []\n",
    "path = 'www.amazon.com.tr'\n",
    "for i in all_links:\n",
    "    raw_link = i.get('href')\n",
    "    hper.append(path + raw_link)\n",
    "    "
   ]
  },
  {
   "cell_type": "code",
   "execution_count": 119,
   "metadata": {},
   "outputs": [],
   "source": [
    "links = hper[::2]"
   ]
  },
  {
   "cell_type": "code",
   "execution_count": 122,
   "metadata": {},
   "outputs": [],
   "source": [
    "data = {\n",
    "    'Title': title_list,\n",
    "    'Price': price_list,\n",
    "    'Links': links\n",
    "}\n"
   ]
  },
  {
   "cell_type": "code",
   "execution_count": 124,
   "metadata": {},
   "outputs": [
    {
     "data": {
      "text/html": [
       "<div>\n",
       "<style scoped>\n",
       "    .dataframe tbody tr th:only-of-type {\n",
       "        vertical-align: middle;\n",
       "    }\n",
       "\n",
       "    .dataframe tbody tr th {\n",
       "        vertical-align: top;\n",
       "    }\n",
       "\n",
       "    .dataframe thead th {\n",
       "        text-align: right;\n",
       "    }\n",
       "</style>\n",
       "<table border=\"1\" class=\"dataframe\">\n",
       "  <thead>\n",
       "    <tr style=\"text-align: right;\">\n",
       "      <th></th>\n",
       "      <th>Title</th>\n",
       "      <th>Price</th>\n",
       "      <th>Links</th>\n",
       "    </tr>\n",
       "  </thead>\n",
       "  <tbody>\n",
       "    <tr>\n",
       "      <th>0</th>\n",
       "      <td>Apple iPhone 13 (128 GB) - Gece Yarısı</td>\n",
       "      <td>36.599</td>\n",
       "      <td>www.amazon.com.tr/Yeni-Apple-iPhone-128-GB-Gec...</td>\n",
       "    </tr>\n",
       "    <tr>\n",
       "      <th>1</th>\n",
       "      <td>Apple iPhone 14 (512 GB) - Yıldız Işığı</td>\n",
       "      <td>56.199</td>\n",
       "      <td>www.amazon.com.tr/Apple-iPhone-14-512-GB/dp/B0...</td>\n",
       "    </tr>\n",
       "    <tr>\n",
       "      <th>2</th>\n",
       "      <td>Apple iPhone 15 Pro (128 GB) - Siyah Titanyum</td>\n",
       "      <td>67.399</td>\n",
       "      <td>www.amazon.com.tr/Apple-iPhone-15-Pro-128/dp/B...</td>\n",
       "    </tr>\n",
       "    <tr>\n",
       "      <th>3</th>\n",
       "      <td>Apple iPhone 14 (128 GB) - Yıldız Işığı</td>\n",
       "      <td>43.899</td>\n",
       "      <td>www.amazon.com.tr/Apple-iPhone-14-128-GB/dp/B0...</td>\n",
       "    </tr>\n",
       "    <tr>\n",
       "      <th>4</th>\n",
       "      <td>Samsung Galaxy S24 Plus Akıllı Cep Telefonu 12...</td>\n",
       "      <td>43.055</td>\n",
       "      <td>www.amazon.com.tr/Samsung-Galaxy-Telefonu-T%C3...</td>\n",
       "    </tr>\n",
       "    <tr>\n",
       "      <th>5</th>\n",
       "      <td>Samsung Galaxy S24 Akıllı Cep Telefonu 8 GB RA...</td>\n",
       "      <td>34.999</td>\n",
       "      <td>www.amazon.com.tr/Samsung-Galaxy-Telefonu-T%C3...</td>\n",
       "    </tr>\n",
       "    <tr>\n",
       "      <th>6</th>\n",
       "      <td>Samsung Galaxy S24 Ultra Akıllı Cep Telefonu 1...</td>\n",
       "      <td>68.999</td>\n",
       "      <td>www.amazon.com.tr/Samsung-Telefonu-Titanyum-T%...</td>\n",
       "    </tr>\n",
       "    <tr>\n",
       "      <th>7</th>\n",
       "      <td>Apple iPhone 12, 64 GB, Mor, Kulaklık ve Adapt...</td>\n",
       "      <td>27.949</td>\n",
       "      <td>www.amazon.com.tr/Apple-Kulakl%C4%B1k-Adapt%C3...</td>\n",
       "    </tr>\n",
       "    <tr>\n",
       "      <th>8</th>\n",
       "      <td>Samsung Galaxy S23 Ultra 256 GB | 8 GB RAM Cep...</td>\n",
       "      <td>52.499</td>\n",
       "      <td>www.amazon.com.tr/Samsung-Galaxy-Telefonu-T%C3...</td>\n",
       "    </tr>\n",
       "    <tr>\n",
       "      <th>9</th>\n",
       "      <td>Apple iPhone 15 Pro Max (256 GB) - Beyaz Titanyum</td>\n",
       "      <td>78.499</td>\n",
       "      <td>www.amazon.com.tr/Apple-iPhone-Pro-Max-256/dp/...</td>\n",
       "    </tr>\n",
       "  </tbody>\n",
       "</table>\n",
       "</div>"
      ],
      "text/plain": [
       "                                               Title   Price  \\\n",
       "0             Apple iPhone 13 (128 GB) - Gece Yarısı  36.599   \n",
       "1            Apple iPhone 14 (512 GB) - Yıldız Işığı  56.199   \n",
       "2      Apple iPhone 15 Pro (128 GB) - Siyah Titanyum  67.399   \n",
       "3            Apple iPhone 14 (128 GB) - Yıldız Işığı  43.899   \n",
       "4  Samsung Galaxy S24 Plus Akıllı Cep Telefonu 12...  43.055   \n",
       "5  Samsung Galaxy S24 Akıllı Cep Telefonu 8 GB RA...  34.999   \n",
       "6  Samsung Galaxy S24 Ultra Akıllı Cep Telefonu 1...  68.999   \n",
       "7  Apple iPhone 12, 64 GB, Mor, Kulaklık ve Adapt...  27.949   \n",
       "8  Samsung Galaxy S23 Ultra 256 GB | 8 GB RAM Cep...  52.499   \n",
       "9  Apple iPhone 15 Pro Max (256 GB) - Beyaz Titanyum  78.499   \n",
       "\n",
       "                                               Links  \n",
       "0  www.amazon.com.tr/Yeni-Apple-iPhone-128-GB-Gec...  \n",
       "1  www.amazon.com.tr/Apple-iPhone-14-512-GB/dp/B0...  \n",
       "2  www.amazon.com.tr/Apple-iPhone-15-Pro-128/dp/B...  \n",
       "3  www.amazon.com.tr/Apple-iPhone-14-128-GB/dp/B0...  \n",
       "4  www.amazon.com.tr/Samsung-Galaxy-Telefonu-T%C3...  \n",
       "5  www.amazon.com.tr/Samsung-Galaxy-Telefonu-T%C3...  \n",
       "6  www.amazon.com.tr/Samsung-Telefonu-Titanyum-T%...  \n",
       "7  www.amazon.com.tr/Apple-Kulakl%C4%B1k-Adapt%C3...  \n",
       "8  www.amazon.com.tr/Samsung-Galaxy-Telefonu-T%C3...  \n",
       "9  www.amazon.com.tr/Apple-iPhone-Pro-Max-256/dp/...  "
      ]
     },
     "execution_count": 124,
     "metadata": {},
     "output_type": "execute_result"
    }
   ],
   "source": [
    "df = pd.DataFrame(data)\n",
    "df.head(10)"
   ]
  }
 ],
 "metadata": {
  "kernelspec": {
   "display_name": "Python 3",
   "language": "python",
   "name": "python3"
  },
  "language_info": {
   "codemirror_mode": {
    "name": "ipython",
    "version": 3
   },
   "file_extension": ".py",
   "mimetype": "text/x-python",
   "name": "python",
   "nbconvert_exporter": "python",
   "pygments_lexer": "ipython3",
   "version": "3.12.2"
  }
 },
 "nbformat": 4,
 "nbformat_minor": 2
}
